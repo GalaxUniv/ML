{
 "cells": [
  {
   "cell_type": "markdown",
   "metadata": {},
   "source": [
    "## Przygotowanie\n",
    "\n",
    "Przed rozpoczęciem pracy z notatnikiem proszę zmienić jego nazwę dodając na początku numer albumu, imię i nazwisko.\n",
    "{nr_albumu}\\_{imię}\\_{nazwisko}\\_{nazwa}\n",
    "\n",
    "Po wykonaniu wszystkich zadań proszę przesłać wypełniony notatnik przez platformę ELF za pomocą formularza \"Prześlij projekt\" w odpowiedniej sekcji. "
   ]
  },
  {
   "cell_type": "markdown",
   "metadata": {},
   "source": [
    "## Regresja liniowa prosta\n",
    "\n",
    "Regresja liniowa prosta, to szczególny przypadek regresji liniowej, w którym zmienną objaśnaną przewidujemy za pomocą jednej zmiennej objaśniającej. Zadanie będzie polegało na wyznaczeniu funkcji regresji opisującej zależność zarobków od lat doświadczenia. \n",
    "\n",
    "Zbiór danych do tego zadania, to Salary.csv. Znajduje się w katalogu datasets.\n",
    "W zbiorze danych znajduje się 35 obserwacji. Każdy wpis jest osobną obserwacją. W zbiorze znajdują się 3 kolumny: YearsExperience, Age i Salary. W pierwszym zadaniu należy wykorzystać YearsExperience i Salary, pomijając Age."
   ]
  },
  {
   "cell_type": "markdown",
   "metadata": {},
   "source": [
    "### Zadanie 1\n",
    "\n",
    "Wczytaj dane z pliku Salary.csv, a następnie stwórz wykres przedstawiający obserwacje."
   ]
  },
  {
   "cell_type": "code",
   "execution_count": null,
   "metadata": {},
   "outputs": [],
   "source": [
    "import pandas as pd\n",
    "import matplotlib.pyplot as plt\n",
    "df = pd.read_csv('datasets/Salary.csv', sep=',')\n",
    "x = df['YearsExperience'].values.reshape(df['YearsExperience'].shape[0], 1)\n",
    "y = df['Salary'].values.reshape(df['Salary'].shape[0], 1)\n",
    "# YOUR CODE HERE\n",
    "plt.scatter(x,y)\n",
    "plt.ylabel(\"Y\")\n",
    "plt.xlabel(\"X\")"
   ]
  },
  {
   "cell_type": "markdown",
   "metadata": {},
   "source": [
    "### Zadanie 2\n",
    "\n",
    "Implementacja algorytmu regresji liniowej prostej.\n",
    "\n",
    "Żeby dobrze zrozumieć zapis matematyczny, który początkowo może sprawiać problemy, przejdziemy po kolei po elementach składowych algorytmu. Następnie złączymy elementy w całość.\n",
    "\n",
    "Wzór na regresję liniową w naszym przypadku będzie wyglądał następująco:\n",
    "\n",
    "\\begin{equation}\n",
    "f(x^{(i)}) = \\beta_{0} + \\beta_{1}x_1 = \\beta_{0} + \\beta_{1}  YearsExperience\n",
    "\\end{equation}\n",
    "\n",
    "Przypomnijmy, że zapis $x^{(i)}$ oznacza wektor dla $i$-tej obserwacji. W naszym przypadku ten wektor będzie zawierał tylko $1$ wartość dla cechy $YearsExperience$.\n",
    "\n",
    "\n",
    "_Uwaga: W różnych źródłach algorytm regresji liniowej ma różne zapisy. Czasem podawane są wzory w postaci z sumą, czasem w postaci macierzowej. Jest to spowodowane tym, że algorytm można zaimplementować na te dwa sposoby. Łatwiejszym i bardziej intuicyjnym podejściem jest podejście z sumą, która bezpośrednio sugeruje wykokrzystanie pętli w celu iteracji po obserwacjach/cechach. Implementacja z wykorzystaniem macierzy jest zwykle krótsza i \"bardziej elegancka\", ale również bardziej wydajna. Aby dobrze zrozumieć działanie algorytmu, najlepiej jest zaimplementować obie wersje i porównać je ze sobą._\n"
   ]
  },
  {
   "cell_type": "markdown",
   "metadata": {},
   "source": [
    "#### 2.1 Inicjalizacja współczynników $\\beta$ regresji\n",
    "\n",
    "Pierwszym krokiem jest inicjalizacja współczynników regresji. W przypadku regresji liniowej prostej mamy dwa współczynniki $\\beta_{0}$ i $\\beta_{1}$. Stwórz dwie zmienne będące współczynnikami regresji liniowej prostej i zainicjalizuj je losowymi wartościami z przedziału $(0,1)$.\n",
    "\n",
    "Dodatkowo stwórz zmienną *alpha*, która przyjmie wartość od $(0,1)$. Możesz ustawić ją ręcznie i sprawdzać jak różne wartości mają wpływ na regresję. "
   ]
  },
  {
   "cell_type": "code",
   "execution_count": null,
   "metadata": {},
   "outputs": [],
   "source": [
    "# YOUR CODE HERE\n",
    "import random\n",
    "beta_0 = random.random()\n",
    "beta_1 = random.random()\n",
    "alpha = 0.15 # \n"
   ]
  },
  {
   "cell_type": "markdown",
   "metadata": {},
   "source": [
    "#### 2.2 Obliczenie predykcji\n",
    "\n",
    "Kolejnym krokiem jest obliczenie wartości funkcji regresji dla wszystkich obserwacji w zbiorze danych. Jest to po prostu wstawienie kolejnych wartości pod wzrór regresji.\n",
    "\n",
    "\\begin{equation}\n",
    "f(x) = \\beta_{0} + \\beta_{1}x_1\n",
    "\\end{equation}\n",
    "\n",
    "Można zrobić to z wykorzystaniem operacji na macierzach (wektorach), albo z wykorzystaniem klasycznej iteracji. "
   ]
  },
  {
   "cell_type": "code",
   "execution_count": null,
   "metadata": {},
   "outputs": [],
   "source": [
    "# YOUR CODE HERE\n",
    "def prediction(beta_0,beta_1):\n",
    "    value = 0\n",
    "    for m in range(len(x)):\n",
    "      value += beta_0+beta_1*x[m,0]\n",
    "    return value\n",
    "\n",
    "#beta_0 +beta_1*x return array - usef for matrix solution\n"
   ]
  },
  {
   "cell_type": "markdown",
   "metadata": {},
   "source": [
    "#### 2.3 Obliczenie błędu\n",
    "\n",
    "Obliczenie wartości błędu regresji nie jest konieczne do aktualizacji wag, jednak jest to bardzo cenna informacja czy nasz algorytm działa poprawnie. Wartość błędu nie może rosnąć w kolejnych epokach.\n",
    "\n",
    "Błąd należy obliczyć zgodnie ze wzorem:\n",
    "\n",
    "\\begin{equation}\n",
    "    SSR = \\frac{1}{2m} \\sum_{i=1}^{m}(f(x^{(i)}) - y^{(i)})^2\n",
    "\\end{equation}"
   ]
  },
  {
   "cell_type": "code",
   "execution_count": null,
   "metadata": {},
   "outputs": [],
   "source": [
    "#f(x) = \n",
    "# YOUR CODE HERE\n",
    "import numpy as np\n",
    "SSR = 0.0\n",
    "b_0 = random.random()\n",
    "b_1 = random.random()\n",
    "SSR += (prediction(b_0,b_1) - y.sum())**2\n",
    "SSR = SSR /(2*len(x))\n",
    "SSR"
   ]
  },
  {
   "cell_type": "markdown",
   "metadata": {},
   "source": [
    "#### 2.4 Obliczenie gradientu \n",
    "\n",
    "Żeby obliczyć gradient, należy obliczyć pochodne cząstkowe względem parametrów $\\beta_{0}$ i $\\beta_{1}$.\n",
    "\n",
    "\\begin{equation}\n",
    "    \\frac{\\partial SSR}{\\partial \\beta_{0}} = \\frac{1}{m} \\sum^{m}_{i=1} (f(x^{(i)}) - y^{(i)})\n",
    "\\end{equation}\n",
    "\n",
    "\\begin{equation}\n",
    "    \\frac{\\partial SSR}{\\partial \\beta_{1}} = \\frac{1}{m} \\sum^{m}_{i=1} (f(x^{(i)}) - y^{(i)})x_{1}^{(i)}\n",
    "\\end{equation}\n",
    "\n",
    "Tutaj ponownie jak wcześniej można wykorzystać operacje na macierzach, lub iteracyjnie obliczyć sumę."
   ]
  },
  {
   "cell_type": "code",
   "execution_count": null,
   "metadata": {},
   "outputs": [],
   "source": [
    "# YOUR CODE HERE\n",
    "def gradient_0(beta_0,beta_1):\n",
    "    grad_0 = 0\n",
    "    grad_0 += (prediction(beta_0,beta_1) -y.sum())\n",
    "    grad_0 = grad_0/len(x)\n",
    "    return grad_0\n",
    "\n",
    "def gradient_1(beta_0,beta_1):\n",
    "    grad_1 = 0\n",
    "    grad_1 += (prediction(beta_0,beta_1) -y.sum())\n",
    "    grad_1 = grad_1/(len(x)*x[0,0])\n",
    "    return grad_1\n",
    "\n",
    "print(gradient_0(beta_0,beta_1),gradient_1(beta_0,beta_1))"
   ]
  },
  {
   "cell_type": "markdown",
   "metadata": {},
   "source": [
    "####  2.5 Aktualizacja współczynników regresji (wag)\n",
    "\n",
    "Po obliczeniu pochodnych cząstkowych należy obliczyć nowe wartości dla współczynników regresji.\n",
    "\n",
    "\n",
    "\\begin{equation}\n",
    "    \\beta_{0} = \\beta_{0} - \\alpha \\frac{\\partial SSR}{\\partial \\beta_{0}} \n",
    "\\end{equation}\n",
    "\n",
    "\\begin{equation}\n",
    "    \\beta_{1} = \\beta_{1} - \\alpha \\frac{\\partial SSR}{\\partial \\beta_{1}} \n",
    "\\end{equation}"
   ]
  },
  {
   "cell_type": "code",
   "execution_count": null,
   "metadata": {},
   "outputs": [],
   "source": [
    "# YOUR CODE HERE\n",
    "\n",
    "beta_0 = beta_0 - gradient_0()* alpha \n",
    "\n",
    "beta_1 = beta_1 - gradient_1() * alpha \n",
    "\n",
    "print(beta_0,beta_1)"
   ]
  },
  {
   "cell_type": "markdown",
   "metadata": {},
   "source": [
    "#### 2.6 Finalna wersja algorytmu\n",
    "\n",
    "Powyższe działania, to wszystkie elementy potrzebne do stworzenia algorytmu regresji liniowej prostej. Jeden cykl takich operacji nazywany jest **epoką**. Idea obliczania współczynników regresji z wykorzystaniem gradientu polega na iteracyjnym aktualizowaniu współczynników do momentu, aż błąd przestanie znacznie się zmieniać. Można również ustawić jakaś stałą ilość epok. W każdej epoce wykorzystuje się ponownie ten sam zestaw danych.\n",
    "\n",
    "Skoro wiadomo już jakie pojedyncze etapy należy wykonać, żeby obliczyć regresję liniową prostą, przyszedł czas na zebranie wszystkiego w jednym miejscu.\n",
    "\n",
    "Proszę zaimplementować funkcję `learn_and_fit(x, y)`, która dla danych wejściowych będzie zwracać współczynniki regresji w każdej z epok. Dodatkowo proszę zwracać również błąd regresji w każdej epoce. Funkcja może być zaimplementowana w dowolny sposób. Może bezpośrednio zawierać wszystkie instrukcje, może korzystać z innych funkcji pomocniczych albo może korzystać z klasy reprezentującą regresję liniową prostą. \n",
    "\n",
    "Na końcu notebooka znajduje się test jednostkowy, który musi przechodzić przy prawidłowej implementacji algorytmu."
   ]
  },
  {
   "cell_type": "code",
   "execution_count": null,
   "metadata": {},
   "outputs": [],
   "source": [
    "'''\n",
    "input:\n",
    "x - wartości zmiennej objaśniającej YearsExperience dla wszystkich obserwacji\n",
    "y - wartości zmiennej objaśnianej Salary dla wszystkich obserwacji\n",
    "\n",
    "output:\n",
    "b0: [] - lista z współczynnikami beta_0 w każdej z epok\n",
    "b1: [] - lista z współczynnikami beta_1 w każdej z epok\n",
    "error: [] - lista z błędem w każdej epoce\n",
    "'''\n",
    "\n",
    "\n",
    "    \n",
    "def learn_and_fit(x, y):\n",
    "    import random\n",
    "    beta_0 = random.random()\n",
    "    beta_1 = random.random()\n",
    "    alpha = 0.01\n",
    "    b0 = [beta_0]\n",
    "    b1 = [beta_1]\n",
    "    error = []\n",
    "    for epoch in range(10000):#10000 epok\n",
    "        SSR = 0 \n",
    "        SSR += (prediction(beta_0,beta_1) - y.sum())**2\n",
    "        SSR=SSR/((len(x))*2)\n",
    "        error.append(SSR)\n",
    "\n",
    "        g_0 , g_1 = gradient_0(beta_0,beta_1) , gradient_1(beta_0,beta_1)\n",
    "        beta_0 = beta_0 - g_0 * alpha \n",
    "        beta_1 = beta_1 - g_1 * alpha \n",
    "        \n",
    "        b0.append(beta_0)\n",
    "        b1.append(beta_1)\n",
    "    \n",
    "\n",
    "    \n",
    "    return b0, b1, error\n",
    "b0, b1, error = learn_and_fit(x, y)\n",
    "print(error[0],error[-1])\n",
    "print(b0[-1],b1[-1])"
   ]
  },
  {
   "cell_type": "markdown",
   "metadata": {},
   "source": [
    "### Zadanie 3\n",
    "\n",
    "Do wykresu stworzonego w zadaniu 1 dodaj prostą regresji. Stwórz 3 wykresy przedstawiające jak zmieniała się funkcja regresji na przestrzeni epok (pierwsza, środokowa, ostatnia epoka)."
   ]
  },
  {
   "cell_type": "code",
   "execution_count": null,
   "metadata": {},
   "outputs": [],
   "source": [
    "# YOUR CODE HEREimport pandas as pd\n",
    "import matplotlib.pyplot as plt\n",
    "df = pd.read_csv('datasets/Salary.csv', sep=',')\n",
    "x = df['YearsExperience'].values.reshape(df['YearsExperience'].shape[0], 1)\n",
    "y = df['Salary'].values.reshape(df['Salary'].shape[0], 1)\n",
    "# YOUR CODE HERE\n",
    "b0, b1, error = learn_and_fit(x, y)\n",
    "plt.scatter(x,y)\n",
    "#plt.plot(x,b0[len(b0)//2] + b1[len(b0)//2]*x + error[len(b0)//2])\n",
    "plt.plot(x,b0[-1] + b1[-1]*x + error[-1])\n",
    "#plt.plot(x,b0[0] + b1[0]*x+error[0])\n",
    "\n"
   ]
  },
  {
   "cell_type": "markdown",
   "metadata": {},
   "source": [
    "### Testy jednostkowe"
   ]
  },
  {
   "cell_type": "code",
   "execution_count": null,
   "metadata": {},
   "outputs": [],
   "source": [
    "import unittest\n",
    "import pandas as pd\n",
    "\n",
    "class SimpleLinearRegressionTest(unittest.TestCase):\n",
    "    \n",
    "    def test_learn_and_fit(self):\n",
    "        df = pd.read_csv('datasets/Salary.csv', sep=',')\n",
    "        x = df['YearsExperience'].values.reshape(df['YearsExperience'].shape[0], 1)\n",
    "        y = df['Salary'].values.reshape(df['Salary'].shape[0], 1)\n",
    "        \n",
    "        b0, b1, error = learn_and_fit(x, y)\n",
    "        \n",
    "        self.assertTrue(len(b0) > 1)\n",
    "        self.assertTrue(len(b1) > 1)\n",
    "        self.assertTrue(len(b0) == len(b1))\n",
    "        self.assertTrue(all(i >= j for i, j in zip(error, error[1:]))) #Sprawdzenie, czy błędy nie rosną\n",
    "        \n",
    "unittest.main(argv=[''], verbosity=2, exit=False)"
   ]
  }
 ],
 "metadata": {
  "kernelspec": {
   "display_name": "Python 3",
   "language": "python",
   "name": "python3"
  },
  "language_info": {
   "codemirror_mode": {
    "name": "ipython",
    "version": 3
   },
   "file_extension": ".py",
   "mimetype": "text/x-python",
   "name": "python",
   "nbconvert_exporter": "python",
   "pygments_lexer": "ipython3",
   "version": "3.9.7"
  }
 },
 "nbformat": 4,
 "nbformat_minor": 4
}
